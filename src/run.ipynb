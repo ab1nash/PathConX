{
 "cells": [
  {
   "cell_type": "code",
   "execution_count": 1,
   "metadata": {},
   "outputs": [
    {
     "name": "stdout",
     "output_type": "stream",
     "text": [
      "AMD Radeon RX 6700S\n"
     ]
    }
   ],
   "source": [
    "import torch\n",
    "print(torch.cuda.get_device_name())"
   ]
  },
  {
   "cell_type": "code",
   "execution_count": 2,
   "metadata": {},
   "outputs": [
    {
     "name": "stdout",
     "output_type": "stream",
     "text": [
      "\n",
      "=============================================\n",
      "dataset: icewsmall\n",
      "epoch: 20\n",
      "batch_size: 128\n",
      "dim: 64\n",
      "l2: 1e-07\n",
      "lr: 0.005\n",
      "feature_type: id\n",
      "use relational context: True\n",
      "context_hops: 3\n",
      "neighbor_samples: 8\n",
      "neighbor_agg: cross\n",
      "use relational path: True\n",
      "max_path_len: 4\n",
      "path_type: embedding\n",
      "=============================================\n",
      "\n",
      "reading entity dict and relation dict ...\n",
      "reading train, validation, and test data ...\n",
      "processing the temporal knowledge graph ...\n",
      "counting paths from head to tail ...\n",
      "Traceback (most recent call last):\n",
      "  File \"/home/bisco/github/PathConX/src/test.py\", line 201, in <module>\n",
      "    main()\n",
      "  File \"/home/bisco/github/PathConX/src/test.py\", line 195, in main\n",
      "    data = dataLoaderTKGInstance.load_data(args)\n",
      "  File \"/home/bisco/github/PathConX/src/data_loader_tkg.py\", line 182, in load_data\n",
      "    train_paths, valid_paths, test_paths = self.get_paths(train_quiplets, valid_quiplets, test_quiplets)\n",
      "  File \"/home/bisco/github/PathConX/src/data_loader_tkg.py\", line 133, in get_paths\n",
      "    head2tails = self.get_h2t(train_triplets, valid_triplets, test_triplets)\n",
      "  File \"/home/bisco/github/PathConX/src/data_loader_tkg.py\", line 113, in get_h2t\n",
      "    for head, tail, relation in train_triplets + valid_triplets + test_triplets:\n",
      "ValueError: too many values to unpack (expected 3)\n"
     ]
    }
   ],
   "source": [
    "!python3 test.py --cuda"
   ]
  },
  {
   "cell_type": "code",
   "execution_count": 3,
   "metadata": {},
   "outputs": [
    {
     "name": "stdout",
     "output_type": "stream",
     "text": [
      "Alt + A\n"
     ]
    }
   ],
   "source": [
    "print('Alt + A')"
   ]
  }
 ],
 "metadata": {
  "kernelspec": {
   "display_name": "datasc",
   "language": "python",
   "name": "python3"
  },
  "language_info": {
   "codemirror_mode": {
    "name": "ipython",
    "version": 3
   },
   "file_extension": ".py",
   "mimetype": "text/x-python",
   "name": "python",
   "nbconvert_exporter": "python",
   "pygments_lexer": "ipython3",
   "version": "3.10.12"
  },
  "orig_nbformat": 4
 },
 "nbformat": 4,
 "nbformat_minor": 2
}
