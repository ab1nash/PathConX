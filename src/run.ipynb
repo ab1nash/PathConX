{
 "cells": [
  {
   "cell_type": "code",
   "execution_count": 11,
   "metadata": {},
   "outputs": [
    {
     "name": "stdout",
     "output_type": "stream",
     "text": [
      "AMD Radeon RX 6700S\n"
     ]
    }
   ],
   "source": [
    "import torch\n",
    "print(torch.cuda.get_device_name())"
   ]
  },
  {
   "cell_type": "code",
   "execution_count": 6,
   "metadata": {},
   "outputs": [
    {
     "name": "stdout",
     "output_type": "stream",
     "text": [
      "\n",
      "=============================================\n",
      "dataset: DDB14\n",
      "epoch: 20\n",
      "batch_size: 128\n",
      "dim: 64\n",
      "l2: 1e-07\n",
      "lr: 0.005\n",
      "feature_type: id\n",
      "use relational context: True\n",
      "context_hops: 3\n",
      "neighbor_samples: 8\n",
      "neighbor_agg: cross\n",
      "use relational path: True\n",
      "max_path_len: 4\n",
      "path_type: embedding\n",
      "=============================================\n",
      "\n",
      "reading entity dict and relation dict ...\n",
      "reading train, validation, and test data ...\n",
      "processing the knowledge graph ...\n",
      "loading paths from files ...\n",
      "transforming paths to one hot IDs ...\n",
      "start training ...\n",
      "/home/bisco/github/PathConX/src/train.py:118: UserWarning: torch.sparse.SparseTensor(indices, values, shape, *, device=) is deprecated.  Please use torch.sparse_coo_tensor(indices, values, shape, dtype=, device=). (Triggered internally at ../torch/csrc/utils/tensor_new.cpp:605.)\n",
      "  feed_dict[\"path_features\"] = torch.sparse.FloatTensor(indices.t(), values, torch.Size(shape)).to_dense()\n",
      "epoch  0   train acc: 0.9507   valid acc: 0.9544   test acc: 0.9549\n",
      "           mrr: 0.9739   mr: 1.0804   h1: 0.9554   h3: 0.9909   h5: 0.9972\n",
      "\n",
      "epoch  1   train acc: 0.9374   valid acc: 0.9556   test acc: 0.9612\n",
      "           mrr: 0.9774   mr: 1.0691   h1: 0.9614   h3: 0.9922   h5: 0.9980\n",
      "\n",
      "epoch  2   train acc: 0.9562   valid acc: 0.9567   test acc: 0.9642\n",
      "           mrr: 0.9794   mr: 1.0617   h1: 0.9645   h3: 0.9934   h5: 0.9980\n",
      "\n",
      "epoch  3   train acc: 0.9461   valid acc: 0.9584   test acc: 0.9642\n",
      "           mrr: 0.9793   mr: 1.0600   h1: 0.9642   h3: 0.9937   h5: 0.9990\n",
      "\n",
      "epoch  4   train acc: 0.9543   valid acc: 0.9619   test acc: 0.9594\n",
      "           mrr: 0.9771   mr: 1.0658   h1: 0.9597   h3: 0.9937   h5: 0.9990\n",
      "\n",
      "epoch  5   train acc: 0.9555   valid acc: 0.9622   test acc: 0.9662\n",
      "           mrr: 0.9801   mr: 1.0587   h1: 0.9660   h3: 0.9937   h5: 0.9990\n",
      "\n",
      "epoch  6   train acc: 0.9677   valid acc: 0.9614   test acc: 0.9672\n",
      "           mrr: 0.9810   mr: 1.0544   h1: 0.9672   h3: 0.9937   h5: 0.9990\n",
      "\n",
      "epoch  7   train acc: 0.9452   valid acc: 0.9592   test acc: 0.9632\n",
      "           mrr: 0.9787   mr: 1.0615   h1: 0.9630   h3: 0.9937   h5: 0.9990\n",
      "\n",
      "epoch  8   train acc: 0.9652   valid acc: 0.9624   test acc: 0.9650\n",
      "           mrr: 0.9798   mr: 1.0562   h1: 0.9645   h3: 0.9942   h5: 0.9992\n",
      "\n",
      "epoch  9   train acc: 0.9687   valid acc: 0.9624   test acc: 0.9650\n",
      "           mrr: 0.9791   mr: 1.0615   h1: 0.9637   h3: 0.9937   h5: 0.9982\n",
      "\n",
      "epoch 10   train acc: 0.9657   valid acc: 0.9594   test acc: 0.9680\n",
      "           mrr: 0.9812   mr: 1.0562   h1: 0.9680   h3: 0.9934   h5: 0.9982\n",
      "\n",
      "epoch 11   train acc: 0.9530   valid acc: 0.9569   test acc: 0.9614\n",
      "           mrr: 0.9777   mr: 1.0625   h1: 0.9614   h3: 0.9940   h5: 0.9995\n",
      "\n",
      "epoch 12   train acc: 0.9607   valid acc: 0.9602   test acc: 0.9612\n",
      "           mrr: 0.9778   mr: 1.0602   h1: 0.9607   h3: 0.9934   h5: 0.9995\n",
      "\n",
      "epoch 13   train acc: 0.9632   valid acc: 0.9584   test acc: 0.9632\n",
      "           mrr: 0.9784   mr: 1.0633   h1: 0.9630   h3: 0.9929   h5: 0.9982\n",
      "\n",
      "epoch 14   train acc: 0.9663   valid acc: 0.9597   test acc: 0.9617\n",
      "           mrr: 0.9781   mr: 1.0622   h1: 0.9619   h3: 0.9934   h5: 0.9987\n",
      "\n",
      "epoch 15   train acc: 0.9639   valid acc: 0.9607   test acc: 0.9635\n",
      "           mrr: 0.9788   mr: 1.0628   h1: 0.9635   h3: 0.9929   h5: 0.9990\n",
      "\n",
      "epoch 16   train acc: 0.9677   valid acc: 0.9599   test acc: 0.9640\n",
      "           mrr: 0.9793   mr: 1.0607   h1: 0.9642   h3: 0.9932   h5: 0.9982\n",
      "\n",
      "epoch 17   train acc: 0.9606   valid acc: 0.9582   test acc: 0.9597\n",
      "           mrr: 0.9767   mr: 1.0691   h1: 0.9599   h3: 0.9924   h5: 0.9980\n",
      "\n",
      "epoch 18   train acc: 0.9512   valid acc: 0.9541   test acc: 0.9574\n",
      "           mrr: 0.9755   mr: 1.0733   h1: 0.9582   h3: 0.9917   h5: 0.9980\n",
      "\n",
      "epoch 19   train acc: 0.9701   valid acc: 0.9541   test acc: 0.9592\n",
      "           mrr: 0.9762   mr: 1.0691   h1: 0.9592   h3: 0.9932   h5: 0.9982\n",
      "\n",
      "final results\n",
      "acc: 0.9650   mrr: 0.9798   mr: 1.0562   h1: 0.9645   h3: 0.9942   h5: 0.9992\n"
     ]
    }
   ],
   "source": [
    "!python3 main.py --cuda"
   ]
  },
  {
   "cell_type": "code",
   "execution_count": null,
   "metadata": {},
   "outputs": [],
   "source": []
  }
 ],
 "metadata": {
  "kernelspec": {
   "display_name": "datasc",
   "language": "python",
   "name": "python3"
  },
  "language_info": {
   "codemirror_mode": {
    "name": "ipython",
    "version": 3
   },
   "file_extension": ".py",
   "mimetype": "text/x-python",
   "name": "python",
   "nbconvert_exporter": "python",
   "pygments_lexer": "ipython3",
   "version": "3.10.12"
  },
  "orig_nbformat": 4
 },
 "nbformat": 4,
 "nbformat_minor": 2
}
